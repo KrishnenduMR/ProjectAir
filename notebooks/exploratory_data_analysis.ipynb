{
 "cells": [
  {
   "cell_type": "code",
   "execution_count": 2,
   "metadata": {},
   "outputs": [],
   "source": [
    "import pandas as pd\n",
    "import numpy as np\n",
    "import matplotlib.pyplot as plt\n",
    "import seaborn as sns"
   ]
  },
  {
   "cell_type": "code",
   "execution_count": 3,
   "metadata": {},
   "outputs": [],
   "source": [
    "# Load Data\n",
    "daily = pd.read_csv('../data/mergeddata/merged_daily.csv', parse_dates=[\"time\"])\n",
    "hourly = pd.read_csv('../data/mergeddata/merged_hourly.csv', parse_dates=[\"time\"])"
   ]
  },
  {
   "cell_type": "markdown",
   "metadata": {},
   "source": [
    "AQI Trends over time - Temporal Analysis"
   ]
  },
  {
   "cell_type": "code",
   "execution_count": null,
   "metadata": {},
   "outputs": [],
   "source": [
    "plt.figure(figsize=(14, 6))\n",
    "sns.lineplot(data=daily, x=\"time\", y=\"AQI\", marker=\"o\", color=\"red\")\n",
    "plt.title(\"Daily AQI Trend Over Time\")\n",
    "plt.ylabel(\"AQI\")\n",
    "plt.xlabel(\"Time\")\n",
    "plt.xticks(rotation=45)\n",
    "plt.grid()\n",
    "plt.show()"
   ]
  },
  {
   "cell_type": "code",
   "execution_count": null,
   "metadata": {},
   "outputs": [],
   "source": [
    "plt.figure(figsize=(14, 6))\n",
    "sns.lineplot(data=hourly, x=\"time\", y=\"AQI\", color=\"blue\")\n",
    "plt.title(\"Hourly AQI Trend Over Time\")\n",
    "plt.ylabel(\"AQI\")\n",
    "plt.xlabel(\"Time\")\n",
    "plt.xticks(rotation=45)\n",
    "plt.grid()\n",
    "plt.show()"
   ]
  },
  {
   "cell_type": "markdown",
   "metadata": {},
   "source": [
    "Spatial Analysis (AQI by Location)"
   ]
  },
  {
   "cell_type": "code",
   "execution_count": null,
   "metadata": {},
   "outputs": [],
   "source": [
    "plt.figure(figsize=(12, 6))\n",
    "sns.boxplot(x=\"location\", y=\"AQI\", data=daily, palette=\"coolwarm\")\n",
    "plt.title(\"AQI Distribution Across Locations (Daily)\")\n",
    "plt.xticks(rotation=45)\n",
    "plt.show()\n"
   ]
  },
  {
   "cell_type": "code",
   "execution_count": null,
   "metadata": {},
   "outputs": [],
   "source": [
    "plt.figure(figsize=(12, 6))\n",
    "sns.boxplot(x=\"location\", y=\"AQI\", data=hourly, palette=\"coolwarm\")\n",
    "plt.title(\"AQI Distribution Across Locations (Hourly)\")\n",
    "plt.xticks(rotation=45)\n",
    "plt.show()\n"
   ]
  },
  {
   "cell_type": "code",
   "execution_count": null,
   "metadata": {},
   "outputs": [],
   "source": [
    "plt.figure(figsize=(12, 6))\n",
    "daily.groupby(\"location\")[\"AQI\"].mean().plot(kind=\"bar\", color=\"purple\")\n",
    "plt.title(\"Average AQI by Location (Daily)\")\n",
    "plt.ylabel(\"AQI\")\n",
    "plt.xticks(rotation=45)\n",
    "plt.show()\n"
   ]
  },
  {
   "cell_type": "markdown",
   "metadata": {},
   "source": [
    "Correlation Analysis"
   ]
  },
  {
   "cell_type": "code",
   "execution_count": null,
   "metadata": {},
   "outputs": [],
   "source": [
    "plt.figure(figsize=(10, 6))\n",
    "sns.heatmap(hourly.corr(), annot=True, cmap=\"coolwarm\", fmt=\".2f\")\n",
    "plt.title(\"Correlation Matrix (Hourly Data)\")\n",
    "plt.show()"
   ]
  },
  {
   "cell_type": "markdown",
   "metadata": {},
   "source": [
    "Spatio-Temporal AQI Variation"
   ]
  },
  {
   "cell_type": "code",
   "execution_count": null,
   "metadata": {},
   "outputs": [],
   "source": [
    "plt.figure(figsize=(14, 6))\n",
    "sns.lineplot(data=daily, x=\"time\", y=\"AQI\", hue=\"location\", palette=\"tab10\")\n",
    "plt.title(\"Daily AQI Trends Across Locations\")\n",
    "plt.ylabel(\"AQI\")\n",
    "plt.xlabel(\"Time\")\n",
    "plt.legend(title=\"Location\")\n",
    "plt.xticks(rotation=45)\n",
    "plt.show()\n"
   ]
  },
  {
   "cell_type": "code",
   "execution_count": null,
   "metadata": {},
   "outputs": [],
   "source": [
    "plt.figure(figsize=(14, 6))\n",
    "sns.lineplot(data=hourly, x=\"time\", y=\"AQI\", hue=\"location\", palette=\"tab10\")\n",
    "plt.title(\"Hourly AQI Trends Across Locations\")\n",
    "plt.ylabel(\"AQI\")\n",
    "plt.xlabel(\"Time\")\n",
    "plt.legend(title=\"Location\")\n",
    "plt.xticks(rotation=45)\n",
    "plt.show()\n"
   ]
  }
 ],
 "metadata": {
  "kernelspec": {
   "display_name": "Python 3 (ipykernel)",
   "language": "python",
   "name": "python3"
  }
 },
 "nbformat": 4,
 "nbformat_minor": 2
}
