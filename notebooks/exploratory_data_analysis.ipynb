{
 "cells": [
  {
   "cell_type": "code",
   "execution_count": 1,
   "metadata": {},
   "outputs": [],
   "source": [
    "import pandas as pd\n",
    "import numpy as np\n",
    "import matplotlib.pyplot as plt\n",
    "import seaborn as sns"
   ]
  },
  {
   "cell_type": "code",
   "execution_count": null,
   "metadata": {},
   "outputs": [],
   "source": [
    "# Load Data\n",
    "daily = pd.read_csv('../data/AQIData/aqi_daily.csv', parse_dates=[\"time\"])\n",
    "hourly = pd.read_csv('../data/AQIData/aqi_hourly.csv', parse_dates=[\"time\"])"
   ]
  },
  {
   "cell_type": "code",
   "execution_count": 5,
   "metadata": {},
   "outputs": [
    {
     "name": "stdout",
     "output_type": "stream",
     "text": [
      "<class 'pandas.core.frame.DataFrame'>\n",
      "RangeIndex: 3536 entries, 0 to 3535\n",
      "Data columns (total 8 columns):\n",
      " #   Column                    Non-Null Count  Dtype  \n",
      "---  ------                    --------------  -----  \n",
      " 0   location                  3536 non-null   object \n",
      " 1   time                      3536 non-null   object \n",
      " 2   pm10 (μg/m³)              3536 non-null   float64\n",
      " 3   pm2_5 (μg/m³)             3536 non-null   float64\n",
      " 4   carbon_monoxide (μg/m³)   3536 non-null   float64\n",
      " 5   nitrogen_dioxide (μg/m³)  3536 non-null   float64\n",
      " 6   sulphur_dioxide (μg/m³)   3536 non-null   float64\n",
      " 7   ozone (μg/m³)             3536 non-null   float64\n",
      "dtypes: float64(6), object(2)\n",
      "memory usage: 221.1+ KB\n",
      "<class 'pandas.core.frame.DataFrame'>\n",
      "RangeIndex: 84864 entries, 0 to 84863\n",
      "Data columns (total 9 columns):\n",
      " #   Column                    Non-Null Count  Dtype  \n",
      "---  ------                    --------------  -----  \n",
      " 0   time                      84864 non-null  object \n",
      " 1   pm10 (μg/m³)              84864 non-null  float64\n",
      " 2   pm2_5 (μg/m³)             84864 non-null  float64\n",
      " 3   carbon_monoxide (μg/m³)   84864 non-null  float64\n",
      " 4   nitrogen_dioxide (μg/m³)  84864 non-null  float64\n",
      " 5   sulphur_dioxide (μg/m³)   84864 non-null  float64\n",
      " 6   ozone (μg/m³)             84864 non-null  float64\n",
      " 7   location                  84864 non-null  object \n",
      " 8   urban_rural               84864 non-null  object \n",
      "dtypes: float64(6), object(3)\n",
      "memory usage: 5.8+ MB\n"
     ]
    }
   ],
   "source": [
    "daily.info()\n",
    "hourly.info()"
   ]
  },
  {
   "cell_type": "code",
   "execution_count": 6,
   "metadata": {},
   "outputs": [
    {
     "name": "stdout",
     "output_type": "stream",
     "text": [
      "       pm10 (μg/m³)  pm2_5 (μg/m³)  carbon_monoxide (μg/m³)  \\\n",
      "count   3536.000000    3536.000000              3536.000000   \n",
      "mean      53.840801      32.831135               432.511006   \n",
      "std       45.889356      27.184148               392.513388   \n",
      "min        0.789286       0.572262                59.208333   \n",
      "25%       23.457262      14.629732               216.508036   \n",
      "50%       39.000952      24.768274               281.223810   \n",
      "75%       63.428036      40.278284               403.924206   \n",
      "max      251.186905     147.424960              2101.107937   \n",
      "\n",
      "       nitrogen_dioxide (μg/m³)  sulphur_dioxide (μg/m³)  ozone (μg/m³)  \n",
      "count               3536.000000              3536.000000    3536.000000  \n",
      "mean                  15.974289                14.344324      81.458649  \n",
      "std                   19.663942                16.171359      21.854015  \n",
      "min                    0.000000                 0.241905      23.814286  \n",
      "25%                    3.833988                 2.808661      65.378869  \n",
      "50%                    6.693214                 8.373214      80.216667  \n",
      "75%                   19.303909                20.051429      96.291667  \n",
      "max                  105.621667                78.071905     161.680952  \n"
     ]
    }
   ],
   "source": [
    "print(daily.describe())"
   ]
  },
  {
   "cell_type": "code",
   "execution_count": 7,
   "metadata": {},
   "outputs": [
    {
     "name": "stdout",
     "output_type": "stream",
     "text": [
      "       pm10 (μg/m³)  pm2_5 (μg/m³)  carbon_monoxide (μg/m³)  \\\n",
      "count  84864.000000   84864.000000             84864.000000   \n",
      "mean      53.840801      32.831135               432.511006   \n",
      "std       49.087739      29.085325               446.481677   \n",
      "min       -6.100000      -3.854286                -0.371429   \n",
      "25%       22.005714      13.951429               207.485714   \n",
      "50%       38.651429      24.325714               274.242857   \n",
      "75%       64.812143      40.462857               399.864286   \n",
      "max      289.900000     170.741905              2738.200000   \n",
      "\n",
      "       nitrogen_dioxide (μg/m³)  sulphur_dioxide (μg/m³)  ozone (μg/m³)  \n",
      "count              84864.000000             84864.000000   84864.000000  \n",
      "mean                  15.974289                14.344324      81.458649  \n",
      "std                   22.982734                17.274625      40.751885  \n",
      "min                   -4.868571                -3.971429     -25.638095  \n",
      "25%                    3.062857                 2.550714      51.685714  \n",
      "50%                    7.031429                 7.474286      76.000000  \n",
      "75%                   16.631429                19.694286     106.685714  \n",
      "max                  132.677143                95.620000     261.057143  \n"
     ]
    }
   ],
   "source": [
    "print(hourly.describe())"
   ]
  },
  {
   "cell_type": "markdown",
   "metadata": {},
   "source": [
    "AQI Trends over time - Temporal Analysis"
   ]
  },
  {
   "cell_type": "code",
   "execution_count": null,
   "metadata": {},
   "outputs": [],
   "source": [
    "plt.figure(figsize=(14, 6))\n",
    "sns.lineplot(data=daily, x=\"time\", y=\"AQI\", marker=\"o\", color=\"red\")\n",
    "plt.title(\"Daily AQI Trend Over Time\")\n",
    "plt.ylabel(\"AQI\")\n",
    "plt.xlabel(\"Time\")\n",
    "plt.xticks(rotation=45)\n",
    "plt.grid()\n",
    "plt.show()"
   ]
  },
  {
   "cell_type": "code",
   "execution_count": null,
   "metadata": {},
   "outputs": [],
   "source": [
    "plt.figure(figsize=(14, 6))\n",
    "sns.lineplot(data=hourly, x=\"time\", y=\"AQI\", color=\"blue\")\n",
    "plt.title(\"Hourly AQI Trend Over Time\")\n",
    "plt.ylabel(\"AQI\")\n",
    "plt.xlabel(\"Time\")\n",
    "plt.xticks(rotation=45)\n",
    "plt.grid()\n",
    "plt.show()"
   ]
  },
  {
   "cell_type": "markdown",
   "metadata": {},
   "source": [
    "Spatial Analysis (AQI by Location)"
   ]
  },
  {
   "cell_type": "code",
   "execution_count": null,
   "metadata": {},
   "outputs": [],
   "source": [
    "plt.figure(figsize=(12, 6))\n",
    "sns.boxplot(x=\"location\", y=\"AQI\", data=daily, palette=\"coolwarm\")\n",
    "plt.title(\"AQI Distribution Across Locations (Daily)\")\n",
    "plt.xticks(rotation=45)\n",
    "plt.show()\n"
   ]
  },
  {
   "cell_type": "code",
   "execution_count": null,
   "metadata": {},
   "outputs": [],
   "source": [
    "plt.figure(figsize=(12, 6))\n",
    "sns.boxplot(x=\"location\", y=\"AQI\", data=hourly, palette=\"coolwarm\")\n",
    "plt.title(\"AQI Distribution Across Locations (Hourly)\")\n",
    "plt.xticks(rotation=45)\n",
    "plt.show()\n"
   ]
  },
  {
   "cell_type": "code",
   "execution_count": null,
   "metadata": {},
   "outputs": [],
   "source": [
    "plt.figure(figsize=(12, 6))\n",
    "daily.groupby(\"location\")[\"AQI\"].mean().plot(kind=\"bar\", color=\"purple\")\n",
    "plt.title(\"Average AQI by Location (Daily)\")\n",
    "plt.ylabel(\"AQI\")\n",
    "plt.xticks(rotation=45)\n",
    "plt.show()\n"
   ]
  },
  {
   "cell_type": "markdown",
   "metadata": {},
   "source": [
    "Correlation Analysis"
   ]
  },
  {
   "cell_type": "markdown",
   "metadata": {},
   "source": [
    "plt.figure(figsize=(10, 6))\n",
    "sns.heatmap(daily.corr(), annot=True, cmap=\"coolwarm\", fmt=\".2f\")\n",
    "plt.title(\"Correlation Matrix (Daily Data)\")\n",
    "plt.show()\n"
   ]
  },
  {
   "cell_type": "code",
   "execution_count": null,
   "metadata": {},
   "outputs": [],
   "source": [
    "plt.figure(figsize=(10, 6))\n",
    "sns.heatmap(hourly.corr(), annot=True, cmap=\"coolwarm\", fmt=\".2f\")\n",
    "plt.title(\"Correlation Matrix (Hourly Data)\")\n",
    "plt.show()"
   ]
  },
  {
   "cell_type": "markdown",
   "metadata": {},
   "source": [
    "Spatio-Temporal AQI Variation"
   ]
  },
  {
   "cell_type": "code",
   "execution_count": null,
   "metadata": {},
   "outputs": [],
   "source": [
    "plt.figure(figsize=(14, 6))\n",
    "sns.lineplot(data=daily, x=\"time\", y=\"AQI\", hue=\"location\", palette=\"tab10\")\n",
    "plt.title(\"Daily AQI Trends Across Locations\")\n",
    "plt.ylabel(\"AQI\")\n",
    "plt.xlabel(\"Time\")\n",
    "plt.legend(title=\"Location\")\n",
    "plt.xticks(rotation=45)\n",
    "plt.show()\n"
   ]
  },
  {
   "cell_type": "code",
   "execution_count": null,
   "metadata": {},
   "outputs": [],
   "source": [
    "plt.figure(figsize=(14, 6))\n",
    "sns.lineplot(data=hourly, x=\"time\", y=\"AQI\", hue=\"location\", palette=\"tab10\")\n",
    "plt.title(\"Hourly AQI Trends Across Locations\")\n",
    "plt.ylabel(\"AQI\")\n",
    "plt.xlabel(\"Time\")\n",
    "plt.legend(title=\"Location\")\n",
    "plt.xticks(rotation=45)\n",
    "plt.show()\n"
   ]
  }
 ],
 "metadata": {
  "kernelspec": {
   "display_name": "Python 3",
   "language": "python",
   "name": "python3"
  },
  "language_info": {
   "codemirror_mode": {
    "name": "ipython",
    "version": 3
   },
   "file_extension": ".py",
   "mimetype": "text/x-python",
   "name": "python",
   "nbconvert_exporter": "python",
   "pygments_lexer": "ipython3",
   "version": "3.12.1"
  }
 },
 "nbformat": 4,
 "nbformat_minor": 2
}
