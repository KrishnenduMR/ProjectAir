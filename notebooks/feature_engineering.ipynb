{
 "cells": [
  {
   "cell_type": "code",
   "execution_count": 1,
   "metadata": {},
   "outputs": [],
   "source": [
    "import pandas as pd"
   ]
  },
  {
   "cell_type": "code",
   "execution_count": 2,
   "metadata": {},
   "outputs": [],
   "source": [
    "# Load Data\n",
    "daily = pd.read_csv('../data/mergeddata/merged_daily.csv', parse_dates=[\"date\"])\n",
    "hourly = pd.read_csv('../data/mergeddata/merged_hourly.csv', parse_dates=[\"time\"])"
   ]
  },
  {
   "cell_type": "code",
   "execution_count": 3,
   "metadata": {},
   "outputs": [],
   "source": [
    "# Extracting Time Features (without seasons)\n",
    "def add_temporal_features(df):\n",
    "    df[\"year\"] = df[\"time\"].dt.year if \"time\" in df.columns else df[\"date\"].dt.year\n",
    "    df[\"month\"] = df[\"time\"].dt.month if \"time\" in df.columns else df[\"date\"].dt.month\n",
    "    df[\"day\"] = df[\"time\"].dt.day if \"time\" in df.columns else df[\"date\"].dt.day\n",
    "    df[\"weekday\"] = df[\"time\"].dt.weekday if \"time\" in df.columns else df[\"date\"].dt.weekday\n",
    "    \n",
    "    if \"hour\" in df.columns:  # Only for hourly data\n",
    "        df[\"hour\"] = df[\"time\"].dt.hour\n",
    "    return df\n",
    "\n",
    "daily = add_temporal_features(daily)\n",
    "hourly = add_temporal_features(hourly)"
   ]
  },
  {
   "cell_type": "code",
   "execution_count": 4,
   "metadata": {},
   "outputs": [
    {
     "name": "stdout",
     "output_type": "stream",
     "text": [
      "✅ Temporal Features Added!\n"
     ]
    }
   ],
   "source": [
    "# Save processed files\n",
    "daily.to_csv(\"../data/featureddata/featured_daily.csv\", index=False)\n",
    "hourly.to_csv(\"../data/featureddata/featured_hourly.csv\", index=False)\n",
    "print(\"✅ Temporal Features Added!\")"
   ]
  },
  {
   "cell_type": "code",
   "execution_count": 5,
   "metadata": {},
   "outputs": [
    {
     "name": "stdout",
     "output_type": "stream",
     "text": [
      "✅ Spatial Features already Added! - location and rural/urban classification\n"
     ]
    }
   ],
   "source": [
    "print(\"✅ Spatial Features already Added! - location and rural/urban classification\")"
   ]
  },
  {
   "cell_type": "code",
   "execution_count": 6,
   "metadata": {},
   "outputs": [
    {
     "name": "stdout",
     "output_type": "stream",
     "text": [
      "✅ Lag Features Added!\n"
     ]
    }
   ],
   "source": [
    "# Adding Lag Features\n",
    "def add_lag_features(df, lags=[1, 7, 14, 30]):\n",
    "    for lag in lags:\n",
    "        df[f\"AQI_lag_{lag}\"] = df[\"AQI\"].shift(lag)\n",
    "    return df\n",
    "\n",
    "daily = add_lag_features(daily)\n",
    "\n",
    "# Save processed file\n",
    "daily.to_csv(\"../data/featureddata/featured_daily.csv\", index=False)\n",
    "print(\"✅ Lag Features Added!\")\n"
   ]
  },
  {
   "cell_type": "code",
   "execution_count": 7,
   "metadata": {},
   "outputs": [
    {
     "name": "stdout",
     "output_type": "stream",
     "text": [
      "✅ Rolling Averages Added!\n"
     ]
    }
   ],
   "source": [
    "# Add rolling averages for AQI and pollutants\n",
    "def add_rolling_features(df):\n",
    "    df[\"AQI_7day_avg\"] = df[\"AQI\"].rolling(7, min_periods=1).mean()\n",
    "    df[\"AQI_30day_avg\"] = df[\"AQI\"].rolling(30, min_periods=1).mean()\n",
    "    return df\n",
    "\n",
    "daily = add_rolling_features(daily)\n",
    "\n",
    "# Save processed file\n",
    "daily.to_csv(\"../data/featureddata/featured_daily.csv\", index=False)\n",
    "print(\"✅ Rolling Averages Added!\")\n"
   ]
  }
 ],
 "metadata": {
  "kernelspec": {
   "display_name": "Python 3",
   "language": "python",
   "name": "python3"
  },
  "language_info": {
   "codemirror_mode": {
    "name": "ipython",
    "version": 3
   },
   "file_extension": ".py",
   "mimetype": "text/x-python",
   "name": "python",
   "nbconvert_exporter": "python",
   "pygments_lexer": "ipython3",
   "version": "3.12.1"
  }
 },
 "nbformat": 4,
 "nbformat_minor": 2
}
