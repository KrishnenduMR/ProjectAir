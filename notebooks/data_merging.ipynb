{
 "cells": [
  {
   "cell_type": "code",
   "execution_count": 1,
   "metadata": {},
   "outputs": [],
   "source": [
    "import pandas as pd\n",
    "import os"
   ]
  },
  {
   "cell_type": "code",
   "execution_count": 8,
   "metadata": {},
   "outputs": [],
   "source": [
    "# Define paths\n",
    "aqi_data_path = \"../data/AQIdata\"\n",
    "merged_data_path = \"../data/mergeddata\""
   ]
  },
  {
   "cell_type": "code",
   "execution_count": 2,
   "metadata": {},
   "outputs": [],
   "source": [
    "# Define location and urban/rural mapping\n",
    "location_mapping = {\n",
    "    \"Chennai\": \"Urban\",\n",
    "    \"Delhi\": \"Urban\",\n",
    "    \"Koonimedu\": \"Rural\",\n",
    "    \"Mawlynnong\": \"Rural\"\n",
    "}\n"
   ]
  },
  {
   "cell_type": "code",
   "execution_count": 3,
   "metadata": {},
   "outputs": [],
   "source": [
    "# Initialize lists to store dataframes\n",
    "daily_dfs = []\n",
    "hourly_dfs = []"
   ]
  },
  {
   "cell_type": "code",
   "execution_count": 9,
   "metadata": {},
   "outputs": [],
   "source": [
    "# Loop through files in AQIdata folder\n",
    "for file in os.listdir(aqi_data_path):\n",
    "    file_path = os.path.join(aqi_data_path, file)\n",
    "    if file.endswith(\"_daily_aqi.csv\"):\n",
    "        location = file.split(\"_daily_aqi.csv\")[0]\n",
    "        df = pd.read_csv(file_path)\n",
    "        df[\"Location\"] = location\n",
    "        df[\"Urban/Rural\"] = location_mapping.get(location, \"Unknown\")\n",
    "        daily_dfs.append(df)\n",
    "    elif file.endswith(\"_hourly_aqi.csv\"):\n",
    "        location = file.split(\"_hourly_aqi.csv\")[0]\n",
    "        df = pd.read_csv(file_path)\n",
    "        df[\"Location\"] = location\n",
    "        df[\"Urban/Rural\"] = location_mapping.get(location, \"Unknown\")\n",
    "        hourly_dfs.append(df)"
   ]
  },
  {
   "cell_type": "code",
   "execution_count": 10,
   "metadata": {},
   "outputs": [],
   "source": [
    "# Merge all dataframes\n",
    "daily_merged = pd.concat(daily_dfs, ignore_index=True)\n",
    "hourly_merged = pd.concat(hourly_dfs, ignore_index=True)"
   ]
  },
  {
   "cell_type": "code",
   "execution_count": 11,
   "metadata": {},
   "outputs": [],
   "source": [
    "# Save merged files\n",
    "os.makedirs(merged_data_path, exist_ok=True)\n",
    "daily_merged.to_csv(os.path.join(merged_data_path, \"merged_daily.csv\"), index=False)\n",
    "hourly_merged.to_csv(os.path.join(merged_data_path, \"merged_hourly.csv\"), index=False)\n"
   ]
  },
  {
   "cell_type": "code",
   "execution_count": 12,
   "metadata": {},
   "outputs": [
    {
     "name": "stdout",
     "output_type": "stream",
     "text": [
      "Merging complete. Files saved under ../data/mergeddata\n"
     ]
    }
   ],
   "source": [
    "print(\"Merging complete. Files saved under\", merged_data_path)"
   ]
  }
 ],
 "metadata": {
  "kernelspec": {
   "display_name": "Python 3 (ipykernel)",
   "language": "python",
   "name": "python3"
  }
 },
 "nbformat": 4,
 "nbformat_minor": 2
}
